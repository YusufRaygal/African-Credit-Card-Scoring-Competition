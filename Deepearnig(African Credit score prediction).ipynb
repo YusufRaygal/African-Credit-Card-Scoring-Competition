{
 "cells": [
  {
   "cell_type": "code",
   "execution_count": null,
   "id": "6199ec4e",
   "metadata": {},
   "outputs": [],
   "source": [
    "pip uninstall numpy pandas"
   ]
  },
  {
   "cell_type": "code",
   "execution_count": 4,
   "id": "83bd9a8d",
   "metadata": {},
   "outputs": [
    {
     "ename": "NameError",
     "evalue": "name 'pd' is not defined",
     "output_type": "error",
     "traceback": [
      "\u001b[1;31m---------------------------------------------------------------------------\u001b[0m",
      "\u001b[1;31mNameError\u001b[0m                                 Traceback (most recent call last)",
      "Cell \u001b[1;32mIn[4], line 2\u001b[0m\n\u001b[0;32m      1\u001b[0m \u001b[38;5;66;03m# Loading the train dataset\u001b[39;00m\n\u001b[1;32m----> 2\u001b[0m train \u001b[38;5;241m=\u001b[39m pd\u001b[38;5;241m.\u001b[39mread_csv(\u001b[38;5;124m'\u001b[39m\u001b[38;5;124mTrain.csv\u001b[39m\u001b[38;5;124m'\u001b[39m)\n\u001b[0;32m      3\u001b[0m test \u001b[38;5;241m=\u001b[39m pd\u001b[38;5;241m.\u001b[39mread_csv(\u001b[38;5;124m'\u001b[39m\u001b[38;5;124mTest.csv\u001b[39m\u001b[38;5;124m'\u001b[39m)\n\u001b[0;32m      4\u001b[0m \u001b[38;5;66;03m# Display the first few rows of the datasets and their shape\u001b[39;00m\n",
      "\u001b[1;31mNameError\u001b[0m: name 'pd' is not defined"
     ]
    }
   ],
   "source": [
    "# Loading the train dataset\n",
    "train = pd.read_csv('Train.csv')\n",
    "test = pd.read_csv('Test.csv')\n",
    "# Display the first few rows of the datasets and their shape\n",
    "display(\"Train\", train.head(), train.shape, \"Test\", test.head(), test.shape)"
   ]
  },
  {
   "cell_type": "code",
   "execution_count": null,
   "id": "83ab916e",
   "metadata": {},
   "outputs": [],
   "source": [
    "print(train.shape)\n",
    "print(test.shape)"
   ]
  },
  {
   "cell_type": "code",
   "execution_count": null,
   "id": "88ec71b4",
   "metadata": {},
   "outputs": [],
   "source": [
    "train.info()\n",
    "test.info()"
   ]
  },
  {
   "cell_type": "code",
   "execution_count": null,
   "id": "775bd4d2",
   "metadata": {},
   "outputs": [],
   "source": [
    "# Are there missing values in the train dataset ?\n",
    "print(f\"There are {train.isna().sum().sum()} missing values in the data.\")"
   ]
  },
  {
   "cell_type": "code",
   "execution_count": null,
   "id": "93e7f6bf",
   "metadata": {},
   "outputs": [],
   "source": [
    "def plot_continuous(df, column, transform=None):\n",
    "    \"\"\"\n",
    "    Plots visualizations for a continuous variable, showing the distribution and boxplot for both\n",
    "    the original and transformed versions of the data.\n",
    "\n",
    "    Args:\n",
    "        df (pandas.DataFrame): The DataFrame containing the data.\n",
    "        column (str): The column name of the continuous variable to plot.\n",
    "        transform (str, optional): Transformation to apply to the data before plotting.\n",
    "                                  Accepted values are 'log' or 'sqrt'. Default is None, which means no transformation.\n",
    "\n",
    "    This function generates:\n",
    "        - A histogram with a kernel density estimate (KDE) for the original data.\n",
    "        - A boxplot for the original data.\n",
    "        - If a transformation is specified ('log' or 'sqrt'):\n",
    "            - A histogram with a KDE for the transformed data.\n",
    "            - A boxplot for the transformed data.\n",
    "    \"\"\"\n",
    "    # Create subplots for visualizations\n",
    "    fig, axs = plt.subplots(2, 2, figsize=(15, 15))\n",
    "\n",
    "    # Original data plots\n",
    "    sns.histplot(df[column], kde=True, ax=axs[0, 0])\n",
    "    axs[0, 0].set_title(f'Distribution of {column}')\n",
    "    axs[0, 0].set_xlabel(column)\n",
    "\n",
    "    sns.boxplot(y=df[column], ax=axs[1, 0])\n",
    "    axs[1, 0].set_title(f'Box Plot of {column}')\n",
    "    axs[1, 0].set_ylabel(column)\n",
    "\n",
    "    # Transformations (log or square root)\n",
    "    if transform == 'log':\n",
    "        transformed_data = np.log1p(df[column])  # log1p handles log(0) gracefully\n",
    "        transform_label = 'Log'\n",
    "    elif transform == 'sqrt':\n",
    "        transformed_data = np.sqrt(df[column])  # Square root transformation\n",
    "        transform_label = 'Square Root'\n",
    "    else:\n",
    "        transformed_data = None  # No transformation if not specified\n",
    "\n",
    "    # If transformed data exists, generate corresponding plots\n",
    "    if transformed_data is not None:\n",
    "        sns.histplot(transformed_data, kde=True, ax=axs[0, 1])\n",
    "        axs[0, 1].set_title(f'{transform_label} Distribution of {column}')\n",
    "        axs[0, 1].set_xlabel(f'{transform_label}({column})')\n",
    "\n",
    "        sns.boxplot(y=transformed_data, ax=axs[1, 1])\n",
    "        axs[1, 1].set_title(f'{transform_label} Box Plot of {column}')\n",
    "        axs[1, 1].set_ylabel(f'{transform_label}({column})')\n",
    "    else:\n",
    "        # If no transformation, remove the second set of axes\n",
    "        for ax in [axs[0, 1], axs[1, 1]]:\n",
    "            ax.remove()\n",
    "\n",
    "    # Adjust layout to prevent overlap\n",
    "    plt.tight_layout()\n",
    "    plt.show()\n",
    "\n",
    "\n",
    "def plot_categorical(df, column):\n",
    "    \"\"\"\n",
    "    Plots visualizations for a categorical variable, including a bar plot and a pie chart.\n",
    "\n",
    "    Args:\n",
    "        df (pandas.DataFrame): The DataFrame containing the data.\n",
    "        column (str): The column name of the categorical variable to plot.\n",
    "\n",
    "    This function generates:\n",
    "        - A bar plot showing the counts of each category in the specified column.\n",
    "        - A pie chart showing the relative proportions of each category.\n",
    "    \"\"\"\n",
    "    # Create subplots for visualizations\n",
    "    fig, (ax1, ax2) = plt.subplots(1, 2, figsize=(15, 5))\n",
    "\n",
    "    # Bar plot showing counts of each category\n",
    "    value_counts = df[column].value_counts()\n",
    "    sns.barplot(x=value_counts.index, y=value_counts.values, ax=ax1)\n",
    "    ax1.set_title(f'Bar Plot of {column}')\n",
    "    ax1.set_xlabel(column)\n",
    "    ax1.set_ylabel('Count')\n",
    "    ax1.tick_params(axis='x', rotation=45)  # Rotate x-axis labels for better readability\n",
    "\n",
    "    # Pie chart showing percentage distribution of each category\n",
    "    ax2.pie(value_counts.values, labels=value_counts.index, autopct='%1.1f%%')\n",
    "    ax2.set_title(f'Pie Chart of {column}')\n",
    "\n",
    "    # Adjust layout to prevent overlap\n",
    "    plt.tight_layout()\n",
    "    plt.show()\n"
   ]
  },
  {
   "cell_type": "code",
   "execution_count": null,
   "id": "956c5ec6",
   "metadata": {},
   "outputs": [],
   "source": [
    "plot_categorical(train, 'country_id')"
   ]
  },
  {
   "cell_type": "code",
   "execution_count": null,
   "id": "6b8dc373",
   "metadata": {},
   "outputs": [],
   "source": [
    "plot_categorical(test, 'country_id')"
   ]
  },
  {
   "cell_type": "code",
   "execution_count": null,
   "id": "8c6a16b2",
   "metadata": {},
   "outputs": [],
   "source": [
    "plot_categorical(train, 'target')"
   ]
  },
  {
   "cell_type": "code",
   "execution_count": null,
   "id": "cd4534d8",
   "metadata": {},
   "outputs": [],
   "source": [
    "plot_continuous(train, 'Total_Amount')"
   ]
  },
  {
   "cell_type": "code",
   "execution_count": null,
   "id": "5e7964a1",
   "metadata": {},
   "outputs": [],
   "source": [
    "data = pd.concat([train, test]).reset_index(drop=True)\n",
    "\n",
    "# Convert date columns to datetime\n",
    "data['disbursement_date'] = pd.to_datetime(data['disbursement_date'], errors='coerce')\n",
    "data['due_date'] = pd.to_datetime(data['due_date'], errors='coerce')\n",
    "\n",
    "# Extract temporal features from dates\n",
    "date_cols = ['disbursement_date', 'due_date']\n",
    "for col in date_cols:\n",
    "    data[col] = pd.to_datetime(data[col])\n",
    "    # Extract month, day, year\n",
    "    data[col+'_month'] = data[col].dt.month\n",
    "    data[col+'_day'] = data[col].dt.day\n",
    "    data[col+'_year'] = data[col].dt.year\n",
    "    # Calculate loan term and weekday features\n",
    "    data[f'loan_term_days'] = (data['due_date'] - data['disbursement_date']).dt.days\n",
    "    data[f'disbursement_weekday'] = data['disbursement_date'].dt.weekday\n",
    "    data[f'due_weekday'] = data['due_date'].dt.weekday\n",
    "data['repayment_ratio'] = data['Total_Amount_to_Repay'] / data['Total_Amount']\n",
    "data['log_Total_Amount'] = np.log1p(data['Total_Amount'])\n",
    "\n",
    "# Handle categorical variables\n",
    "cat_cols = data.select_dtypes(include='object').columns\n",
    "# One-hot encoding for loan type\n",
    "data = pd.get_dummies(data, columns=['loan_type'], prefix='loan_type', drop_first=False)\n",
    "loan_type_cols = [col for col in data.columns if col.startswith('loan_type_')]\n",
    "data[loan_type_cols] = data[loan_type_cols].astype(int)\n",
    "\n",
    "# Label encoding for other categorical columns\n",
    "le = LabelEncoder()\n",
    "for col in [col for col in cat_cols if col not in ['loan_type', 'ID']]:\n",
    "    data[col] = le.fit_transform(data[col])\n",
    "\n",
    "# Split back into train and test\n",
    "train_df = data[data['ID'].isin(train['ID'].unique())]\n",
    "test_df = data[data['ID'].isin(test['ID'].unique())]\n",
    "features_for_modelling = [col for col in train_df.columns if col not in date_cols + ['ID', 'target', 'country_id']]\n",
    "\n",
    "print(f\"The shape of train_df is: {train_df.shape}\")\n",
    "print(f\"The shape of test_df is: {test_df.shape}\")\n",
    "print(f\"The shape of train is: {train.shape}\")\n",
    "print(f\"The shape of test is: {test.shape}\")\n",
    "print(f\"The features for modelling are:\\n{features_for_modelling}\")"
   ]
  },
  {
   "cell_type": "code",
   "execution_count": null,
   "id": "766ef93b",
   "metadata": {},
   "outputs": [],
   "source": [
    "X_train, X_valid, y_train, y_valid = train_test_split(\n",
    "    train_df[features_for_modelling], \n",
    "    train['target'], \n",
    "    stratify=train['target'], \n",
    "    shuffle=True, \n",
    "    random_state=42\n",
    ")\n",
    "print(X_train.shape, X_valid.shape, y_train.shape, y_valid.shape)"
   ]
  }
 ],
 "metadata": {
  "kernelspec": {
   "display_name": "Python 3 (ipykernel)",
   "language": "python",
   "name": "python3"
  },
  "language_info": {
   "codemirror_mode": {
    "name": "ipython",
    "version": 3
   },
   "file_extension": ".py",
   "mimetype": "text/x-python",
   "name": "python",
   "nbconvert_exporter": "python",
   "pygments_lexer": "ipython3",
   "version": "3.11.4"
  }
 },
 "nbformat": 4,
 "nbformat_minor": 5
}
